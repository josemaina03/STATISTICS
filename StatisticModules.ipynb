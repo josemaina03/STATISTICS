{
 "cells": [
  {
   "cell_type": "markdown",
   "id": "ff1ffc9b",
   "metadata": {},
   "source": [
    "# MEAN"
   ]
  },
  {
   "cell_type": "code",
   "execution_count": 1,
   "id": "9c6b3829",
   "metadata": {},
   "outputs": [
    {
     "name": "stdout",
     "output_type": "stream",
     "text": [
      "Mean is : 4.857142857142857\n"
     ]
    }
   ],
   "source": [
    "import statistics    \n",
    "# list of positive integer numbers   \n",
    "datasets = [5, 2, 7, 4, 2, 6, 8]     \n",
    "x = statistics.mean(datasets)     \n",
    "# Printing the mean   \n",
    "print(\"Mean is :\", x)  "
   ]
  },
  {
   "cell_type": "markdown",
   "id": "d3e19adb",
   "metadata": {},
   "source": [
    "# MEDIAN"
   ]
  },
  {
   "cell_type": "code",
   "execution_count": 2,
   "id": "662312f7",
   "metadata": {},
   "outputs": [
    {
     "name": "stdout",
     "output_type": "stream",
     "text": [
      "Median of data-set is : 4.5 \n"
     ]
    }
   ],
   "source": [
    "import statistics     \n",
    "datasets = [4, -5, 6, 6, 9, 4, 5, -2]      \n",
    "# Printing median of the   \n",
    "# random data-set   \n",
    "print(\"Median of data-set is : % s \"  \n",
    "        % (statistics.median(datasets))) "
   ]
  },
  {
   "cell_type": "markdown",
   "id": "40af7238",
   "metadata": {},
   "source": [
    "# MODE"
   ]
  },
  {
   "cell_type": "code",
   "execution_count": 3,
   "id": "377e8c0b",
   "metadata": {},
   "outputs": [
    {
     "name": "stdout",
     "output_type": "stream",
     "text": [
      "Calculated Mode 2\n"
     ]
    }
   ],
   "source": [
    "import statistics     \n",
    "# declaring a simple data-set consisting of real valued positive integers.   \n",
    "dataset =[2, 4, 7, 7, 2, 2, 3, 6, 6, 8]     \n",
    "# Printing out the mode of given data-set   \n",
    "print(\"Calculated Mode % s\" % (statistics.mode(dataset)))  "
   ]
  },
  {
   "cell_type": "markdown",
   "id": "b546323e",
   "metadata": {},
   "source": [
    "# STANDARD DEVIATION"
   ]
  },
  {
   "cell_type": "code",
   "execution_count": 4,
   "id": "e847cfbb",
   "metadata": {},
   "outputs": [
    {
     "name": "stdout",
     "output_type": "stream",
     "text": [
      "Standard Deviation of sample is 1.5811388300841898 \n"
     ]
    }
   ],
   "source": [
    "import statistics     \n",
    "# creating a simple data - set   \n",
    "sample = [7, 8, 9, 10, 11]     \n",
    "# Prints standard deviation   \n",
    "print(\"Standard Deviation of sample is % s \"   \n",
    "                % (statistics.stdev(sample)))  "
   ]
  },
  {
   "cell_type": "markdown",
   "id": "cd5d57e2",
   "metadata": {},
   "source": [
    "# MEDIAN_LOW"
   ]
  },
  {
   "cell_type": "code",
   "execution_count": 5,
   "id": "de273bd9",
   "metadata": {},
   "outputs": [
    {
     "name": "stdout",
     "output_type": "stream",
     "text": [
      "Low median of data-set is 5 \n"
     ]
    }
   ],
   "source": [
    "import statistics     \n",
    "# simple list of a set of integers   \n",
    "set1 = [4, 6, 2, 5, 7, 7]     \n",
    "# Note: low median will always be a member of the data-set.     \n",
    "# Print low median of the data-set   \n",
    "print(\"Low median of data-set is % s \"   \n",
    "        % (statistics.median_low(set1))) "
   ]
  },
  {
   "cell_type": "markdown",
   "id": "953741d5",
   "metadata": {},
   "source": [
    "# MEDIAN_HIGH"
   ]
  },
  {
   "cell_type": "code",
   "execution_count": 6,
   "id": "706fa237",
   "metadata": {},
   "outputs": [
    {
     "name": "stdout",
     "output_type": "stream",
     "text": [
      "High median of data-set is 6 \n"
     ]
    }
   ],
   "source": [
    "import statistics     \n",
    "# list of set of the integers   \n",
    "dataset = [2, 1, 7, 6, 1, 9]     \n",
    "print(\"High median of data-set is %s \"   \n",
    "        % (statistics.median_high(dataset)))  "
   ]
  },
  {
   "cell_type": "code",
   "execution_count": null,
   "id": "e36a73a6",
   "metadata": {},
   "outputs": [],
   "source": []
  }
 ],
 "metadata": {
  "kernelspec": {
   "display_name": "Python 3 (ipykernel)",
   "language": "python",
   "name": "python3"
  },
  "language_info": {
   "codemirror_mode": {
    "name": "ipython",
    "version": 3
   },
   "file_extension": ".py",
   "mimetype": "text/x-python",
   "name": "python",
   "nbconvert_exporter": "python",
   "pygments_lexer": "ipython3",
   "version": "3.10.9"
  }
 },
 "nbformat": 4,
 "nbformat_minor": 5
}
